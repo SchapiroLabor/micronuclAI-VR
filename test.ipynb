{
 "cells": [
  {
   "cell_type": "code",
   "execution_count": 1,
   "id": "initial_id",
   "metadata": {
    "ExecuteTime": {
     "end_time": "2024-05-12T17:27:46.756986546Z",
     "start_time": "2024-05-12T17:27:46.754037034Z"
    }
   },
   "outputs": [],
   "source": [
    "import requests #Import HTTPS client package"
   ]
  },
  {
   "cell_type": "code",
   "execution_count": 2,
   "id": "7002c9c3612588b3",
   "metadata": {
    "ExecuteTime": {
     "end_time": "2024-04-30T09:36:53.675066033Z",
     "start_time": "2024-04-30T09:36:53.669499782Z"
    }
   },
   "outputs": [],
   "source": [
    "# tiff path\n",
    "tiff_path = \"/media/ibrahim/Extended Storage/cloud/Internship/shapiro/cell_tinder/exemplar-001_Ch1_DAPI (1).tif\""
   ]
  },
  {
   "cell_type": "code",
   "execution_count": 3,
   "id": "4ec2aca551aff880",
   "metadata": {},
   "outputs": [
    {
     "name": "stdout",
     "output_type": "stream",
     "text": [
      "Got the following problem here: HTTPConnectionPool(host='127.0.0.1', port=5000): Max retries exceeded with url: //v1//tiff_img (Caused by NewConnectionError('<urllib3.connection.HTTPConnection object at 0x764cfd75a850>: Failed to establish a new connection: [Errno 111] Connection refused'))\n"
     ]
    }
   ],
   "source": [
    "# Feed tiff path to server\n",
    "content = {\"path\": tiff_path}\n",
    "endpoint = \"http://127.0.0.1:5000//v1//tiff_img\"\n",
    "\n",
    "try: \n",
    "    requests.post(endpoint, data=content)\n",
    "    print(\"Successfully sent data\")\n",
    "except Exception as e:\n",
    "    print(\"Got the following problem here: {}\".format(e))"
   ]
  },
  {
   "cell_type": "code",
   "execution_count": 4,
   "id": "82ac30b1",
   "metadata": {},
   "outputs": [
    {
     "name": "stdout",
     "output_type": "stream",
     "text": [
      "Got the following problem here: HTTPConnectionPool(host='127.0.0.1', port=5000): Max retries exceeded with url: //v1//tiff_img (Caused by NewConnectionError('<urllib3.connection.HTTPConnection object at 0x764cfd7614d0>: Failed to establish a new connection: [Errno 111] Connection refused'))\n"
     ]
    }
   ],
   "source": [
    "# Recieve processed data from server\n",
    "endpoint = \"http://127.0.0.1:5000//v1//tiff_img\"\n",
    "\n",
    "try: \n",
    "    data = requests.get(endpoint)\n",
    "    print(\"Successfully Recieved data\")\n",
    "except Exception as e:\n",
    "    print(\"Got the following problem here: {}\".format(e))"
   ]
  },
  {
   "cell_type": "code",
   "execution_count": 5,
   "id": "77de5e1b",
   "metadata": {},
   "outputs": [
    {
     "ename": "NameError",
     "evalue": "name 'data' is not defined",
     "output_type": "error",
     "traceback": [
      "\u001b[0;31m---------------------------------------------------------------------------\u001b[0m",
      "\u001b[0;31mNameError\u001b[0m                                 Traceback (most recent call last)",
      "Cell \u001b[0;32mIn[5], line 6\u001b[0m\n\u001b[1;32m      3\u001b[0m \u001b[38;5;28;01mimport\u001b[39;00m \u001b[38;5;21;01mmatplotlib\u001b[39;00m\u001b[38;5;21;01m.\u001b[39;00m\u001b[38;5;21;01mpyplot\u001b[39;00m \u001b[38;5;28;01mas\u001b[39;00m \u001b[38;5;21;01mplt\u001b[39;00m\n\u001b[1;32m      4\u001b[0m \u001b[38;5;28;01mimport\u001b[39;00m \u001b[38;5;21;01mnumpy\u001b[39;00m \u001b[38;5;28;01mas\u001b[39;00m \u001b[38;5;21;01mnp\u001b[39;00m\n\u001b[0;32m----> 6\u001b[0m data \u001b[38;5;241m=\u001b[39m data\u001b[38;5;241m.\u001b[39mjson()\n\u001b[1;32m      7\u001b[0m \u001b[38;5;66;03m# Problems showing rgb data with plt, so use grayscale channel\u001b[39;00m\n\u001b[1;32m      8\u001b[0m plt\u001b[38;5;241m.\u001b[39mimshow(np\u001b[38;5;241m.\u001b[39marray(data[\u001b[38;5;124m\"\u001b[39m\u001b[38;5;124mimg\u001b[39m\u001b[38;5;124m\"\u001b[39m])[\u001b[38;5;241m.\u001b[39m\u001b[38;5;241m.\u001b[39m\u001b[38;5;241m.\u001b[39m,\u001b[38;5;241m-\u001b[39m\u001b[38;5;241m1\u001b[39m])\n",
      "\u001b[0;31mNameError\u001b[0m: name 'data' is not defined"
     ]
    }
   ],
   "source": [
    "# Display recieved data\n",
    "\n",
    "import matplotlib.pyplot as plt\n",
    "import numpy as np\n",
    "\n",
    "data = data.json()\n",
    "# Problems showing rgb data with plt, so use grayscale channel\n",
    "plt.imshow(np.array(data[\"img\"])[...,-1])\n",
    "print(\"Shape and dtype of image: {} and {}\".format(data[\"shape\"], data[\"dtype\"]))"
   ]
  },
  {
   "cell_type": "code",
   "execution_count": null,
   "id": "64214480",
   "metadata": {},
   "outputs": [],
   "source": []
  }
 ],
 "metadata": {
  "kernelspec": {
   "display_name": "Python 3 (ipykernel)",
   "language": "python",
   "name": "python3"
  },
  "language_info": {
   "codemirror_mode": {
    "name": "ipython",
    "version": 3
   },
   "file_extension": ".py",
   "mimetype": "text/x-python",
   "name": "python",
   "nbconvert_exporter": "python",
   "pygments_lexer": "ipython3",
   "version": "3.11.5"
  }
 },
 "nbformat": 4,
 "nbformat_minor": 5
}
