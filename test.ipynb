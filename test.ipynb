{
 "cells": [
  {
   "cell_type": "markdown",
   "id": "7aaf940ed46def75",
   "metadata": {},
   "source": [
    "# 12.05 HTTP test"
   ]
  },
  {
   "cell_type": "code",
   "execution_count": 1,
   "id": "40790399e32b263f",
   "metadata": {
    "ExecuteTime": {
     "end_time": "2024-05-26T09:27:02.102616925Z",
     "start_time": "2024-05-26T09:27:02.097807022Z"
    }
   },
   "outputs": [],
   "source": [
    "import os.path\n",
    "\n",
    "import requests #Import HTTPS client package"
   ]
  },
  {
   "cell_type": "code",
   "execution_count": null,
   "id": "7002c9c3612588b3",
   "metadata": {
    "ExecuteTime": {
     "end_time": "2024-04-30T09:36:53.675066033Z",
     "start_time": "2024-04-30T09:36:53.669499782Z"
    }
   },
   "outputs": [],
   "source": [
    "# tiff path\n",
    "tiff_path = \"/media/ibrahim/Extended Storage/cloud/Internship/shapiro/cell_tinder/exemplar-001_Ch1_DAPI (1).tif\""
   ]
  },
  {
   "cell_type": "code",
   "execution_count": null,
   "id": "4ec2aca551aff880",
   "metadata": {},
   "outputs": [],
   "source": [
    "# Feed tiff path to server\n",
    "content = {\"path\": tiff_path}\n",
    "endpoint = \"http://127.0.0.1:5000//v1//tiff_img\"\n",
    "\n",
    "try: \n",
    "    requests.post(endpoint, data=content)\n",
    "    print(\"Successfully sent data\")\n",
    "except Exception as e:\n",
    "    print(\"Got the following problem here: {}\".format(e))"
   ]
  },
  {
   "cell_type": "code",
   "execution_count": null,
   "id": "82ac30b1",
   "metadata": {},
   "outputs": [],
   "source": [
    "# Recieve processed data from server\n",
    "endpoint = \"http://127.0.0.1:5000//v1//tiff_img\"\n",
    "\n",
    "try: \n",
    "    data = requests.get(endpoint)\n",
    "    print(\"Successfully Recieved data\")\n",
    "except Exception as e:\n",
    "    print(\"Got the following problem here: {}\".format(e))"
   ]
  },
  {
   "cell_type": "code",
   "execution_count": null,
   "id": "77de5e1b",
   "metadata": {},
   "outputs": [],
   "source": [
    "# Display recieved data\n",
    "\n",
    "import matplotlib.pyplot as plt\n",
    "import numpy as np\n",
    "\n",
    "data = data.json()\n",
    "# Problems showing rgb data with plt, so use grayscale channel\n",
    "plt.imshow(np.array(data[\"img\"])[...,-1])\n",
    "print(\"Shape and dtype of image: {} and {}\".format(data[\"shape\"], data[\"dtype\"]))"
   ]
  },
  {
   "cell_type": "markdown",
   "id": "f92f962d718b285e",
   "metadata": {},
   "source": [
    "# Check Flatten operation to confirm order of "
   ]
  },
  {
   "cell_type": "code",
   "execution_count": null,
   "id": "81bf65a1a1e578e1",
   "metadata": {
    "ExecuteTime": {
     "end_time": "2024-05-17T14:34:30.678752700Z",
     "start_time": "2024-05-17T14:34:30.555905200Z"
    }
   },
   "outputs": [],
   "source": [
    "import numpy as np\n",
    "\n",
    "array = np.array([[[1,2,3,4,5], [3,3,3,3,3]], [[4,4,4,4,4], [5,5,5,5,5]], [[6,6,6,6,6], [7,7,7,7,7]]])\n",
    "\n",
    "print(array.flatten())"
   ]
  },
  {
   "cell_type": "code",
   "execution_count": null,
   "id": "e69fe7528cec0896",
   "metadata": {
    "ExecuteTime": {
     "end_time": "2024-05-17T18:39:52.673865616Z",
     "start_time": "2024-05-17T18:39:52.588813683Z"
    }
   },
   "outputs": [],
   "source": [
    "import python_codes.unity_functions as uf\n",
    "import os\n",
    "img = uf.fluorescent_channel2rgb(r\"/media/ibrahim/Extended Storage/cloud/Internship/IPBM/well_G_1_hela_gfp_hoechst.tif\")\n",
    "\n",
    "print(img[0][0].shape)"
   ]
  },
  {
   "cell_type": "code",
   "execution_count": null,
   "id": "6abd2a9872f7e948",
   "metadata": {
    "ExecuteTime": {
     "end_time": "2024-05-17T18:50:41.929949534Z",
     "start_time": "2024-05-17T18:50:41.700992884Z"
    }
   },
   "outputs": [],
   "source": [
    "import matplotlib.pyplot as plt\n",
    "import numpy as np"
   ]
  },
  {
   "cell_type": "code",
   "execution_count": null,
   "id": "6fdba2a22b584a7",
   "metadata": {
    "ExecuteTime": {
     "end_time": "2024-05-17T18:33:10.832706737Z",
     "start_time": "2024-05-17T18:33:10.653828278Z"
    }
   },
   "outputs": [],
   "source": [
    "img_c1 = (img[0][:3]).astype(np.uint16)"
   ]
  },
  {
   "cell_type": "code",
   "execution_count": null,
   "id": "d276f21ee77b5775",
   "metadata": {
    "ExecuteTime": {
     "end_time": "2024-05-17T18:50:54.895477679Z",
     "start_time": "2024-05-17T18:50:53.938690591Z"
    }
   },
   "outputs": [],
   "source": [
    "plt.imshow(img)"
   ]
  },
  {
   "cell_type": "markdown",
   "id": "53868737-3267-4f65-a196-f81024b4d939",
   "metadata": {},
   "source": [
    "# Demonstrate uint8 loss of info"
   ]
  },
  {
   "cell_type": "code",
   "execution_count": null,
   "id": "bb50e761-7c49-415c-9dd3-e1a1809f4e93",
   "metadata": {},
   "outputs": [],
   "source": [
    "data = uf.fluorescent_channel2rgb(\"/media/ibrahim/Extended Storage/cloud/Internship/shapiro/exemplar-001_Ch1_DAPI.tif\")\n",
    "# Problems showing rgb data with plt, so use grayscale channel\n",
    "plt.imshow(np.array(data[0][0]).astype(np.uint8))"
   ]
  },
  {
   "cell_type": "code",
   "execution_count": null,
   "id": "ce0a5bed-fb22-4a9e-a187-79cdc2ab37c0",
   "metadata": {},
   "outputs": [],
   "source": [
    "data = uf.fluorescent_channel2rgb(\"/media/ibrahim/Extended Storage/cloud/Internship/shapiro/exemplar-001_Ch1_DAPI.tif\")\n",
    "# Problems showing rgb data with plt, so use grayscale channel\n",
    "\n",
    "#Min max norm\n",
    "v = np.array(data[0][0])\n",
    "img_norm = (v - v.min()) / (v.max() - v.min())\n",
    "img_norm = img_norm * 256\n",
    "\n",
    "plt.imshow(img_norm.astype(int))"
   ]
  },
  {
   "cell_type": "markdown",
   "id": "0a63edf9",
   "metadata": {},
   "source": [
    "# Napari test to VR test\n",
    "31.05.24"
   ]
  },
  {
   "cell_type": "code",
   "execution_count": 6,
   "id": "35560d3d",
   "metadata": {
    "ExecuteTime": {
     "end_time": "2024-06-02T23:17:23.306804100Z",
     "start_time": "2024-06-02T23:17:23.238149568Z"
    }
   },
   "outputs": [],
   "source": [
    "import napari as npi\n",
    "import tifffile as tf\n",
    "import numpy as np\n",
    "import requests"
   ]
  },
  {
   "cell_type": "code",
   "execution_count": 3,
   "id": "5fe5c02a",
   "metadata": {
    "ExecuteTime": {
     "end_time": "2024-06-02T23:16:45.404429834Z",
     "start_time": "2024-06-02T23:16:45.278909476Z"
    }
   },
   "outputs": [
    {
     "name": "stdout",
     "output_type": "stream",
     "text": [
      "(2509, 3138)\n"
     ]
    }
   ],
   "source": [
    "# Load image\n",
    "img = np.moveaxis(tf.imread(r\"/media/ibrahim/Extended Storage/cloud/Internship/shapiro/exemplar-001_Ch1_DAPI.tif\"), 0, -1)\n",
    "print(img.shape)"
   ]
  },
  {
   "cell_type": "code",
   "execution_count": 4,
   "id": "51b00ca9",
   "metadata": {
    "ExecuteTime": {
     "end_time": "2024-06-02T23:16:56.985860966Z",
     "start_time": "2024-06-02T23:16:54.170954169Z"
    }
   },
   "outputs": [],
   "source": [
    "viewer = npi.Viewer(title=\"Test\", show=True)\n",
    "viewer.add_image(img[...,None], channel_axis=-1, )\n",
    "viewer.window._qt_viewer.canvas.show(visible=False, run=False)\n",
    "img = viewer.window._qt_viewer.canvas.render()\n",
    "#viewer.show() # Updates canvas and menu"
   ]
  },
  {
   "cell_type": "code",
   "execution_count": 8,
   "id": "a617ac0a-d0cd-40ba-bdc6-5eedb7d40814",
   "metadata": {
    "collapsed": false,
    "ExecuteTime": {
     "end_time": "2024-06-02T23:17:42.930087264Z",
     "start_time": "2024-06-02T23:17:41.939941260Z"
    }
   },
   "outputs": [
    {
     "name": "stdout",
     "output_type": "stream",
     "text": [
      "Successfully sent data\n"
     ]
    }
   ],
   "source": [
    "# Feed tiff path to server\n",
    "content = {\"img\": img.flatten().tolist(), \"shape\": img.shape, \"dtype\": str(img.)}\n",
    "endpoint = \"http://127.0.0.1:5000//v1//tiff_img\"\n",
    "\n",
    "try: \n",
    "    requests.post(endpoint, json=content)\n",
    "    print(\"Successfully sent data\")\n",
    "except Exception as e:\n",
    "    print(\"Got the following problem here: {}\".format(e))"
   ]
  },
  {
   "cell_type": "code",
   "execution_count": null,
   "id": "7a7ff6c8",
   "metadata": {},
   "outputs": [],
   "source": []
  },
  {
   "cell_type": "code",
   "execution_count": null,
   "id": "db6c5062",
   "metadata": {},
   "outputs": [],
   "source": [
    "import matplotlib.pyplot as plt\n",
    "\n",
    "plt.imshow(img)"
   ]
  },
  {
   "cell_type": "code",
   "execution_count": null,
   "id": "0b5aa2d6",
   "metadata": {},
   "outputs": [],
   "source": [
    "viewer = npi.Viewer(title=\"Test\")\n",
    "show(visible=True, run=False)\n",
    "viewer.add_image(img, channel_axis=-1)\n"
   ]
  },
  {
   "cell_type": "code",
   "execution_count": null,
   "id": "abf5d592",
   "metadata": {},
   "outputs": [],
   "source": []
  }
 ],
 "metadata": {
  "kernelspec": {
   "display_name": "Python 3 (ipykernel)",
   "language": "python",
   "name": "python3"
  },
  "language_info": {
   "codemirror_mode": {
    "name": "ipython",
    "version": 3
   },
   "file_extension": ".py",
   "mimetype": "text/x-python",
   "name": "python",
   "nbconvert_exporter": "python",
   "pygments_lexer": "ipython3",
   "version": "3.10.14"
  }
 },
 "nbformat": 4,
 "nbformat_minor": 5
}
